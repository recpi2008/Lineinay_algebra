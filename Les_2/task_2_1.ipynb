{
 "cells": [
  {
   "cell_type": "code",
   "execution_count": 1,
   "metadata": {},
   "outputs": [],
   "source": [
    "import numpy as np"
   ]
  },
  {
   "cell_type": "markdown",
   "metadata": {},
   "source": [
    "\n",
    "1. Вычислить определитель:\n",
    "\n",
    "a)\n",
    "\n",
    "$$\\begin{vmatrix}\n",
    "sinx &amp; -cosx\\\\\n",
    "cosx &amp; sinx\n",
    "\\end{vmatrix};$$\n",
    "б)\n",
    "\n",
    "$$\\begin{vmatrix}\n",
    "4 &amp; 2 &amp; 3\\\\\n",
    "0 &amp; 5 &amp; 1\\\\\n",
    "0 &amp; 0 &amp; 9\n",
    "\\end{vmatrix};$$\n",
    "в)\n",
    "\n",
    "$$\\begin{vmatrix}\n",
    "1 &amp; 2 &amp; 3\\\\\n",
    "4 &amp; 5 &amp; 6\\\\\n",
    "7 &amp; 8 &amp; 9\n",
    "\\end{vmatrix}.$$\n",
    "Вариант а:\n",
    "\n",
    "$det = sinx * sinx - (cosx * -cosx) = sin^2x + cos^2x = 1$\n",
    "\n",
    "Вариант б:"
   ]
  },
  {
   "cell_type": "code",
   "execution_count": 2,
   "metadata": {},
   "outputs": [
    {
     "data": {
      "text/plain": [
       "180.0"
      ]
     },
     "execution_count": 2,
     "metadata": {},
     "output_type": "execute_result"
    }
   ],
   "source": [
    "a1_2 = np.array([[4,2,3], [0,5,1], [0,0,9]])\n",
    "det1_2 = np.linalg.det(a1_2)\n",
    "det1_2"
   ]
  },
  {
   "cell_type": "markdown",
   "metadata": {},
   "source": [
    "Вариант в:"
   ]
  },
  {
   "cell_type": "code",
   "execution_count": 3,
   "metadata": {},
   "outputs": [
    {
     "data": {
      "text/plain": [
       "6.66133814775094e-16"
      ]
     },
     "execution_count": 3,
     "metadata": {},
     "output_type": "execute_result"
    }
   ],
   "source": [
    "a1_3 = np.array([[1,2,3], [4,5,6], [7,8,9]])\n",
    "det1_3 = np.linalg.det(a1_3)\n",
    "det1_3"
   ]
  },
  {
   "cell_type": "markdown",
   "metadata": {},
   "source": [
    "2. Определитель матрицы $A$ равен $4$. Найти:\n",
    "\n",
    "а) $det(A^{2})$;\n",
    "\n",
    "б) $det(A^{T})$;\n",
    "\n",
    "в) $det(2A)$.\n",
    "\n",
    "Вариант а:\n",
    "\n",
    "$det(A^{2}) = det(AA) = det(A)*det(a) = 4 * 4 = 16$\n",
    "\n",
    "Вариант б:\n",
    "\n",
    "$det(A^{T}) = det(A) = 4$\n",
    "\n",
    "Вариант в:\n",
    "\n",
    "$det(2A) = det(A) * 2^n = 4 * 2^n$, n - кол-во строк в матрице\n",
    "\n",
    "3. Доказать, что матрица\n",
    "\n",
    "$$\\begin{pmatrix}\n",
    "-2 &amp; 7 &amp; -3\\\\\n",
    "4 &amp; -14 &amp; 6\\\\\n",
    "-3 &amp; 7 &amp; 13\n",
    "\\end{pmatrix}$$\n",
    "вырожденная."
   ]
  },
  {
   "cell_type": "code",
   "execution_count": 4,
   "metadata": {},
   "outputs": [
    {
     "data": {
      "text/plain": [
       "0.0"
      ]
     },
     "execution_count": 4,
     "metadata": {},
     "output_type": "execute_result"
    }
   ],
   "source": [
    "a3 = np.array([[-2,7,-3], [4,-14,6], [-3,7,13]])\n",
    "det3 = np.linalg.det(a3)\n",
    "det3"
   ]
  },
  {
   "cell_type": "markdown",
   "metadata": {},
   "source": [
    "определитель матрицы равен нулю, следовательно, матрица вырожденная"
   ]
  },
  {
   "cell_type": "markdown",
   "metadata": {},
   "source": [
    "4. Найти ранг матрицы:\n",
    "\n",
    "а) $\\begin{pmatrix}\n",
    "1 &amp; 2 &amp; 3\\\\\n",
    "1 &amp; 1 &amp; 1\\\\\n",
    "2 &amp; 3 &amp; 4\n",
    "\\end{pmatrix};$\n",
    "\n",
    "б) $\\begin{pmatrix}\n",
    "0 &amp; 0 &amp; 2 &amp; 1\\\\\n",
    "0 &amp; 0 &amp; 2 &amp; 2\\\\\n",
    "0 &amp; 0 &amp; 4 &amp; 3\\\\\n",
    "2 &amp; 3 &amp; 5 &amp; 6\n",
    "\\end{pmatrix}.$\n",
    "\n",
    "Вариант а:"
   ]
  },
  {
   "cell_type": "code",
   "execution_count": 5,
   "metadata": {},
   "outputs": [
    {
     "data": {
      "text/plain": [
       "2"
      ]
     },
     "execution_count": 5,
     "metadata": {},
     "output_type": "execute_result"
    }
   ],
   "source": [
    "a4_1 = np.array([[1,2,3], [1,1,1], [2,3,4]])\n",
    "result4_1 = np.linalg.matrix_rank(a4_1)\n",
    "result4_1"
   ]
  },
  {
   "cell_type": "code",
   "execution_count": 6,
   "metadata": {},
   "outputs": [
    {
     "data": {
      "text/plain": [
       "3"
      ]
     },
     "execution_count": 6,
     "metadata": {},
     "output_type": "execute_result"
    }
   ],
   "source": [
    "a4_2 = np.array([[0,0,2,1], [0,0,2,2], [0,0,4,3], [2,3,5,6]])\n",
    "result4_2 = np.linalg.matrix_rank(a4_2)\n",
    "result4_2"
   ]
  },
  {
   "cell_type": "code",
   "execution_count": null,
   "metadata": {},
   "outputs": [],
   "source": []
  },
  {
   "cell_type": "code",
   "execution_count": null,
   "metadata": {},
   "outputs": [],
   "source": []
  },
  {
   "cell_type": "code",
   "execution_count": null,
   "metadata": {},
   "outputs": [],
   "source": []
  },
  {
   "cell_type": "code",
   "execution_count": null,
   "metadata": {},
   "outputs": [],
   "source": []
  },
  {
   "cell_type": "code",
   "execution_count": null,
   "metadata": {},
   "outputs": [],
   "source": []
  },
  {
   "cell_type": "code",
   "execution_count": null,
   "metadata": {},
   "outputs": [],
   "source": []
  },
  {
   "cell_type": "code",
   "execution_count": null,
   "metadata": {},
   "outputs": [],
   "source": []
  }
 ],
 "metadata": {
  "kernelspec": {
   "display_name": "Python 3",
   "language": "python",
   "name": "python3"
  },
  "language_info": {
   "codemirror_mode": {
    "name": "ipython",
    "version": 3
   },
   "file_extension": ".py",
   "mimetype": "text/x-python",
   "name": "python",
   "nbconvert_exporter": "python",
   "pygments_lexer": "ipython3",
   "version": "3.8.5"
  }
 },
 "nbformat": 4,
 "nbformat_minor": 4
}
